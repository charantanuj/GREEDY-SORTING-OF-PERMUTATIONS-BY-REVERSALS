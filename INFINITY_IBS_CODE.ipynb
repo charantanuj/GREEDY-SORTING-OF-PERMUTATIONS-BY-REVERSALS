{
  "nbformat": 4,
  "nbformat_minor": 0,
  "metadata": {
    "colab": {
      "name": "INFINITY_IBS_CODE.ipynb",
      "provenance": [],
      "collapsed_sections": []
    },
    "kernelspec": {
      "name": "python3",
      "display_name": "Python 3"
    },
    "language_info": {
      "name": "python"
    }
  },
  "cells": [
    {
      "cell_type": "markdown",
      "metadata": {
        "id": "m9v7zYjdWKoY"
      },
      "source": [
        "SIMPLE GREEDY REVERSAL SORT"
      ]
    },
    {
      "cell_type": "code",
      "metadata": {
        "colab": {
          "base_uri": "https://localhost:8080/"
        },
        "id": "v6n4GJFODodp",
        "outputId": "414c11e0-e377-4fe0-e125-c037b3f6ece8"
      },
      "source": [
        "def GreedyReversalSort(pi):\n",
        "    it=0\n",
        "    print(\"                                    \",pi,\"  ---> original sequence\\n\")\n",
        "    for i in range(len(pi)-1):\n",
        "        j = pi.index(min(pi[i:]))\n",
        "        if (j != i):\n",
        "            it=it+1\n",
        "            pi = pi[:i] + [v for v in reversed(pi[i:j+1])] + pi[j+1:]\n",
        "            print (\"     Iteration\",it,\":      rho(%2d,%2d) = %s\" % (i+1,j+1,pi),\"\\n\")\n",
        "    print(it,\"Reversals\")\n",
        "    return     \n",
        "\n",
        "L = [3,4,1,2,5,6,7,10,9,8]\n",
        "GreedyReversalSort(L)"
      ],
      "execution_count": null,
      "outputs": [
        {
          "output_type": "stream",
          "text": [
            "                                     [3, 4, 1, 2, 5, 6, 7, 10, 9, 8]   ---> original sequence\n",
            "\n",
            "     Iteration 1 :      rho( 1, 3) = [1, 4, 3, 2, 5, 6, 7, 10, 9, 8] \n",
            "\n",
            "     Iteration 2 :      rho( 2, 4) = [1, 2, 3, 4, 5, 6, 7, 10, 9, 8] \n",
            "\n",
            "     Iteration 3 :      rho( 8,10) = [1, 2, 3, 4, 5, 6, 7, 8, 9, 10] \n",
            "\n",
            "3 Reversals\n"
          ],
          "name": "stdout"
        }
      ]
    },
    {
      "cell_type": "markdown",
      "metadata": {
        "id": "x5JP28ODmz9h"
      },
      "source": [
        "BREAKPOINT SORT BY REVERSALS"
      ]
    },
    {
      "cell_type": "code",
      "metadata": {
        "id": "Ix-NzydW9PjG"
      },
      "source": [
        "import random\n",
        "\n",
        "def hasBreakpoint(seq):\n",
        "    for i in range(1, len(seq)):\n",
        "        if (seq[i] != seq[i-1] + 1) and (seq[i-1] != seq[i] + 1):\n",
        "            return True\n",
        "    return False\n",
        "\n",
        "\n",
        "def countBreakpoint(seq):\n",
        "    k=0\n",
        "    for i in range(1, len(seq)):\n",
        "        if (seq[i] != seq[i-1] + 1) and (seq[i-1] != seq[i] + 1):\n",
        "            k=k+1\n",
        "    return (k)"
      ],
      "execution_count": null,
      "outputs": []
    },
    {
      "cell_type": "code",
      "metadata": {
        "id": "9JTKOAYe0HBL"
      },
      "source": [
        "def getStrip(seq):\n",
        "    deltas = [seq[i+1] - seq[i] for i in range(len(seq)-1)]\n",
        "    inc = list()\n",
        "    dec = list()\n",
        "    start = 0\n",
        "    for i, diff in enumerate(deltas):    \n",
        "        if (abs(diff) == 1) and (diff == deltas[start]):\n",
        "            continue   \n",
        "        if (start > 0):\n",
        "            if deltas[start] == 1:\n",
        "                inc.append((start, i+1))\n",
        "            else:\n",
        "                dec.append((start, i+1))\n",
        "        start = i+1\n",
        "    return inc, dec\n",
        "\n",
        "\n",
        "def pickreversal(seq, strips):\n",
        "    for i,j in strips:\n",
        "        k = seq.index(seq[j-1]-1) \n",
        "        if (seq[k+1]+1 == seq[j]):   \n",
        "          return (min(k+1,j),max(k+1,j)) \n",
        "    for i,j in strips:\n",
        "        k = seq.index(seq[j-1]-1)\n",
        "        if (j-i>1):\n",
        "          break\n",
        "    return (min(k+1, j), max(k+1,j)) \n",
        "\n",
        "\n"
      ],
      "execution_count": null,
      "outputs": []
    },
    {
      "cell_type": "code",
      "metadata": {
        "id": "rhw8TVvx9TDy"
      },
      "source": [
        "def doreversal(seq,reversal):\n",
        "    i,j = reversal\n",
        "    return seq[:i] + [element for element in reversed(seq[i:j])] + seq[j:]\n",
        "\n",
        "\n",
        "def improvedBreakpointreversalSort(seq):\n",
        "    seq=[0]+seq+[max(seq)+1]\n",
        "    N=0\n",
        "    it=0\n",
        "    while hasBreakpoint(seq):\n",
        "        increasing, decreasing = getStrip(seq)\n",
        "        if len(decreasing) > 0:\n",
        "            reversal = pickreversal(seq, decreasing)\n",
        "        else:\n",
        "            reversal = increasing[0]\n",
        "        it=it+1\n",
        "        if (it==1):\n",
        "            print(\"                                                   \",\"    %s   rho%s\" % (seq, reversal), \"  BreakPoints = \",countBreakpoint(seq),\" ---> given sequence\\n\")\n",
        "        else:\n",
        "            print(\"                                       Iteration\",it-1,\":    %s   rho%s\" % (seq, reversal), \"  BreakPoints = \",countBreakpoint(seq),\"\\n\")\n",
        "        seq = doreversal(seq,reversal)\n",
        "        N += 1\n",
        "    print(\"                                       Iteration\",it,\":   \",seq, \"    Sorted    BreakPoints = \",countBreakpoint(seq))\n",
        "    print(it,\"Reversals\")\n",
        "    return \n"
      ],
      "execution_count": null,
      "outputs": []
    },
    {
      "cell_type": "code",
      "metadata": {
        "colab": {
          "base_uri": "https://localhost:8080/"
        },
        "id": "mtbeSodnSc92",
        "outputId": "0c1af3e0-31af-47f2-9943-3bcf03b6c3b2"
      },
      "source": [
        "L = [3,4,1,2,5,6,7,10,9,8]          \n",
        "improvedBreakpointreversalSort(L)    "
      ],
      "execution_count": null,
      "outputs": [
        {
          "output_type": "stream",
          "text": [
            "                                                        [0, 3, 4, 1, 2, 5, 6, 7, 10, 9, 8, 11]   rho(8, 11)   BreakPoints =  5  ---> given sequence\n",
            "\n",
            "                                       Iteration 1 :    [0, 3, 4, 1, 2, 5, 6, 7, 8, 9, 10, 11]   rho(1, 3)   BreakPoints =  3 \n",
            "\n",
            "                                       Iteration 2 :    [0, 4, 3, 1, 2, 5, 6, 7, 8, 9, 10, 11]   rho(3, 5)   BreakPoints =  3 \n",
            "\n",
            "                                       Iteration 3 :    [0, 4, 3, 2, 1, 5, 6, 7, 8, 9, 10, 11]   rho(1, 5)   BreakPoints =  2 \n",
            "\n",
            "                                       Iteration 4 :    [0, 1, 2, 3, 4, 5, 6, 7, 8, 9, 10, 11]     Sorted    BreakPoints =  0\n",
            "4 Reversals\n"
          ],
          "name": "stdout"
        }
      ]
    },
    {
      "cell_type": "code",
      "metadata": {
        "colab": {
          "base_uri": "https://localhost:8080/"
        },
        "id": "w4no1WCBren0",
        "outputId": "d86d3547-a201-444a-c41c-22457d5262f2"
      },
      "source": [
        "L = [1,2,5,6,7,3,4,8,9]\n",
        "improvedBreakpointreversalSort(L)"
      ],
      "execution_count": null,
      "outputs": [
        {
          "output_type": "stream",
          "text": [
            "                                                        [0, 1, 2, 5, 6, 7, 3, 4, 8, 9, 10]   rho(3, 6)   BreakPoints =  3  ---> given sequence\n",
            "\n",
            "                                       Iteration 1 :    [0, 1, 2, 7, 6, 5, 3, 4, 8, 9, 10]   rho(6, 8)   BreakPoints =  3 \n",
            "\n",
            "                                       Iteration 2 :    [0, 1, 2, 7, 6, 5, 4, 3, 8, 9, 10]   rho(3, 8)   BreakPoints =  2 \n",
            "\n",
            "                                       Iteration 3 :    [0, 1, 2, 3, 4, 5, 6, 7, 8, 9, 10]     Sorted    BreakPoints =  0\n",
            "3 Reversals\n"
          ],
          "name": "stdout"
        }
      ]
    },
    {
      "cell_type": "code",
      "metadata": {
        "colab": {
          "base_uri": "https://localhost:8080/"
        },
        "id": "Ultf7NHeSf4m",
        "outputId": "4b790ea0-edcb-41d4-cc63-254569027561"
      },
      "source": [
        "L = [1, 4, 6, 5, 7, 8, 3, 2]\n",
        "improvedBreakpointreversalSort(L)"
      ],
      "execution_count": null,
      "outputs": [
        {
          "output_type": "stream",
          "text": [
            "                                                        [0, 1, 4, 6, 5, 7, 8, 3, 2, 9]   rho(3, 5)   BreakPoints =  5  ---> given sequence\n",
            "\n",
            "                                       Iteration 1 :    [0, 1, 4, 5, 6, 7, 8, 3, 2, 9]   rho(2, 9)   BreakPoints =  3 \n",
            "\n",
            "                                       Iteration 2 :    [0, 1, 2, 3, 8, 7, 6, 5, 4, 9]   rho(4, 9)   BreakPoints =  2 \n",
            "\n",
            "                                       Iteration 3 :    [0, 1, 2, 3, 4, 5, 6, 7, 8, 9]     Sorted    BreakPoints =  0\n",
            "3 Reversals\n"
          ],
          "name": "stdout"
        }
      ]
    },
    {
      "cell_type": "code",
      "metadata": {
        "colab": {
          "base_uri": "https://localhost:8080/"
        },
        "id": "tX74WBvdTe_X",
        "outputId": "210eb876-8d5c-4151-ed25-68683f42c46d"
      },
      "source": [
        "L = [6,1,2,3,4,5]\n",
        "improvedBreakpointreversalSort(L)"
      ],
      "execution_count": null,
      "outputs": [
        {
          "output_type": "stream",
          "text": [
            "                                                        [0, 6, 1, 2, 3, 4, 5, 7]   rho(2, 7)   BreakPoints =  3  ---> given sequence\n",
            "\n",
            "                                       Iteration 1 :    [0, 6, 5, 4, 3, 2, 1, 7]   rho(1, 7)   BreakPoints =  2 \n",
            "\n",
            "                                       Iteration 2 :    [0, 1, 2, 3, 4, 5, 6, 7]     Sorted    BreakPoints =  0\n",
            "2 Reversals\n"
          ],
          "name": "stdout"
        }
      ]
    },
    {
      "cell_type": "code",
      "metadata": {
        "colab": {
          "base_uri": "https://localhost:8080/"
        },
        "id": "_3HWGOpUseZj",
        "outputId": "c7ae631a-beda-4e13-a021-4a4e95716031"
      },
      "source": [
        "L = [3, 1, 5, 2, 7, 4, 9, 6, 10, 8]\n",
        "improvedBreakpointreversalSort(L)"
      ],
      "execution_count": null,
      "outputs": [
        {
          "output_type": "stream",
          "text": [
            "                                                        [0, 3, 1, 5, 2, 7, 4, 9, 6, 10, 8, 11]   rho(6, 11)   BreakPoints =  11  ---> given sequence\n",
            "\n",
            "                                       Iteration 1 :    [0, 3, 1, 5, 2, 7, 8, 10, 6, 9, 4, 11]   rho(2, 11)   BreakPoints =  10 \n",
            "\n",
            "                                       Iteration 2 :    [0, 3, 4, 9, 6, 10, 8, 7, 2, 5, 1, 11]   rho(5, 8)   BreakPoints =  9 \n",
            "\n",
            "                                       Iteration 3 :    [0, 3, 4, 9, 6, 7, 8, 10, 2, 5, 1, 11]   rho(1, 11)   BreakPoints =  8 \n",
            "\n",
            "                                       Iteration 4 :    [0, 1, 5, 2, 10, 8, 7, 6, 9, 4, 3, 11]   rho(4, 11)   BreakPoints =  7 \n",
            "\n",
            "                                       Iteration 5 :    [0, 1, 5, 2, 3, 4, 9, 6, 7, 8, 10, 11]   rho(7, 10)   BreakPoints =  5 \n",
            "\n",
            "                                       Iteration 6 :    [0, 1, 5, 2, 3, 4, 9, 8, 7, 6, 10, 11]   rho(3, 10)   BreakPoints =  4 \n",
            "\n",
            "                                       Iteration 7 :    [0, 1, 5, 6, 7, 8, 9, 4, 3, 2, 10, 11]   rho(2, 10)   BreakPoints =  3 \n",
            "\n",
            "                                       Iteration 8 :    [0, 1, 2, 3, 4, 9, 8, 7, 6, 5, 10, 11]   rho(5, 10)   BreakPoints =  2 \n",
            "\n",
            "                                       Iteration 9 :    [0, 1, 2, 3, 4, 5, 6, 7, 8, 9, 10, 11]     Sorted    BreakPoints =  0\n",
            "9 Reversals\n"
          ],
          "name": "stdout"
        }
      ]
    }
  ]
}